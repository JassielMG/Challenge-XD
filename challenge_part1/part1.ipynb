{
 "cells": [
  {
   "attachments": {},
   "cell_type": "markdown",
   "metadata": {
    "collapsed": false,
    "jupyter": {
     "outputs_hidden": false
    }
   },
   "source": [
    "### Extracting Data From API"
   ]
  },
  {
   "cell_type": "code",
   "execution_count": 1,
   "metadata": {
    "ExecuteTime": {
     "end_time": "2023-09-03T02:50:58.771303Z",
     "start_time": "2023-09-03T02:50:46.019992Z"
    }
   },
   "outputs": [],
   "source": [
    "# We use some libraries to extract data from the web api provided\n",
    "import requests\n",
    "import json\n",
    "import pandas as pd"
   ]
  },
  {
   "cell_type": "code",
   "execution_count": 2,
   "metadata": {
    "ExecuteTime": {
     "end_time": "2023-09-03T02:51:06.130349Z",
     "start_time": "2023-09-03T02:51:05.456008Z"
    },
    "collapsed": false,
    "jupyter": {
     "outputs_hidden": false
    }
   },
   "outputs": [],
   "source": [
    "# we define the url to extract the data with Get method\n",
    "url = \"https://api.stackexchange.com/2.2/search?order=desc&sort=activity&intitle=perl&site=stackoverflow\"\n",
    "\n",
    "try:\n",
    "    response = requests.get(url)\n",
    "except requests.exceptions.RequestException as e:\n",
    "    print(f\"An error occurred while making the request: {e}\")\n",
    "except requests.exceptions.HTTPError as e:\n",
    "    print(f\"HTTP error: {e.response.status_code} - {e.response.text}\")\n",
    "except Exception as e:\n",
    "    print(f\"An unexpected error occurred: {e}\")\n",
    "\n",
    "json_data = json.loads(response.text)"
   ]
  },
  {
   "cell_type": "code",
   "execution_count": 3,
   "metadata": {
    "ExecuteTime": {
     "end_time": "2023-09-03T02:51:08.337913Z",
     "start_time": "2023-09-03T02:51:08.315704Z"
    },
    "collapsed": false,
    "jupyter": {
     "outputs_hidden": false
    }
   },
   "outputs": [
    {
     "data": {
      "text/html": [
       "<div>\n",
       "<style scoped>\n",
       "    .dataframe tbody tr th:only-of-type {\n",
       "        vertical-align: middle;\n",
       "    }\n",
       "\n",
       "    .dataframe tbody tr th {\n",
       "        vertical-align: top;\n",
       "    }\n",
       "\n",
       "    .dataframe thead th {\n",
       "        text-align: right;\n",
       "    }\n",
       "</style>\n",
       "<table border=\"1\" class=\"dataframe\">\n",
       "  <thead>\n",
       "    <tr style=\"text-align: right;\">\n",
       "      <th></th>\n",
       "      <th>tags</th>\n",
       "      <th>owner</th>\n",
       "      <th>is_answered</th>\n",
       "      <th>view_count</th>\n",
       "      <th>accepted_answer_id</th>\n",
       "      <th>answer_count</th>\n",
       "      <th>score</th>\n",
       "      <th>last_activity_date</th>\n",
       "      <th>creation_date</th>\n",
       "      <th>last_edit_date</th>\n",
       "      <th>question_id</th>\n",
       "      <th>content_license</th>\n",
       "      <th>link</th>\n",
       "      <th>title</th>\n",
       "      <th>closed_date</th>\n",
       "      <th>closed_reason</th>\n",
       "      <th>protected_date</th>\n",
       "      <th>community_owned_date</th>\n",
       "    </tr>\n",
       "  </thead>\n",
       "  <tbody>\n",
       "    <tr>\n",
       "      <th>0</th>\n",
       "      <td>[perl]</td>\n",
       "      <td>{'reputation': 3305, 'user_id': 251947, 'user_...</td>\n",
       "      <td>True</td>\n",
       "      <td>16319</td>\n",
       "      <td>33442443.0</td>\n",
       "      <td>14</td>\n",
       "      <td>14</td>\n",
       "      <td>1693754305</td>\n",
       "      <td>1446228117</td>\n",
       "      <td>1.446229e+09</td>\n",
       "      <td>33442240</td>\n",
       "      <td>CC BY-SA 3.0</td>\n",
       "      <td>https://stackoverflow.com/questions/33442240/p...</td>\n",
       "      <td>Perl printf to use commas as thousands-separator</td>\n",
       "      <td>NaN</td>\n",
       "      <td>NaN</td>\n",
       "      <td>NaN</td>\n",
       "      <td>NaN</td>\n",
       "    </tr>\n",
       "    <tr>\n",
       "      <th>1</th>\n",
       "      <td>[regex, file, perl, parsing]</td>\n",
       "      <td>{'reputation': 9, 'user_id': 22026250, 'user_t...</td>\n",
       "      <td>False</td>\n",
       "      <td>39</td>\n",
       "      <td>NaN</td>\n",
       "      <td>0</td>\n",
       "      <td>-2</td>\n",
       "      <td>1693689518</td>\n",
       "      <td>1693689518</td>\n",
       "      <td>NaN</td>\n",
       "      <td>77030089</td>\n",
       "      <td>NaN</td>\n",
       "      <td>https://stackoverflow.com/questions/77030089/s...</td>\n",
       "      <td>Struggling to read file and use RegEx in perl</td>\n",
       "      <td>1.693712e+09</td>\n",
       "      <td>Not suitable for this site</td>\n",
       "      <td>NaN</td>\n",
       "      <td>NaN</td>\n",
       "    </tr>\n",
       "    <tr>\n",
       "      <th>2</th>\n",
       "      <td>[regex, perl, parsing]</td>\n",
       "      <td>{'reputation': 9, 'user_id': 22026250, 'user_t...</td>\n",
       "      <td>True</td>\n",
       "      <td>70</td>\n",
       "      <td>77029610.0</td>\n",
       "      <td>1</td>\n",
       "      <td>0</td>\n",
       "      <td>1693685333</td>\n",
       "      <td>1693678041</td>\n",
       "      <td>1.693681e+09</td>\n",
       "      <td>77029473</td>\n",
       "      <td>CC BY-SA 4.0</td>\n",
       "      <td>https://stackoverflow.com/questions/77029473/s...</td>\n",
       "      <td>Struggling with Perl regex: Extracting scenari...</td>\n",
       "      <td>NaN</td>\n",
       "      <td>NaN</td>\n",
       "      <td>NaN</td>\n",
       "      <td>NaN</td>\n",
       "    </tr>\n",
       "    <tr>\n",
       "      <th>3</th>\n",
       "      <td>[regex, perl]</td>\n",
       "      <td>{'reputation': 47, 'user_id': 12111603, 'user_...</td>\n",
       "      <td>True</td>\n",
       "      <td>42</td>\n",
       "      <td>77027643.0</td>\n",
       "      <td>1</td>\n",
       "      <td>1</td>\n",
       "      <td>1693645752</td>\n",
       "      <td>1693639247</td>\n",
       "      <td>NaN</td>\n",
       "      <td>77027340</td>\n",
       "      <td>CC BY-SA 4.0</td>\n",
       "      <td>https://stackoverflow.com/questions/77027340/i...</td>\n",
       "      <td>In perl, how can I use regex on a hash contain...</td>\n",
       "      <td>NaN</td>\n",
       "      <td>NaN</td>\n",
       "      <td>NaN</td>\n",
       "      <td>NaN</td>\n",
       "    </tr>\n",
       "    <tr>\n",
       "      <th>4</th>\n",
       "      <td>[perl]</td>\n",
       "      <td>{'reputation': 329, 'user_id': 17843701, 'user...</td>\n",
       "      <td>True</td>\n",
       "      <td>75</td>\n",
       "      <td>71510162.0</td>\n",
       "      <td>1</td>\n",
       "      <td>1</td>\n",
       "      <td>1693563247</td>\n",
       "      <td>1647505118</td>\n",
       "      <td>1.693563e+09</td>\n",
       "      <td>71509034</td>\n",
       "      <td>CC BY-SA 4.0</td>\n",
       "      <td>https://stackoverflow.com/questions/71509034/p...</td>\n",
       "      <td>Perl: Subroutine uneven/unusual behaviour</td>\n",
       "      <td>NaN</td>\n",
       "      <td>NaN</td>\n",
       "      <td>NaN</td>\n",
       "      <td>NaN</td>\n",
       "    </tr>\n",
       "  </tbody>\n",
       "</table>\n",
       "</div>"
      ],
      "text/plain": [
       "                           tags  \\\n",
       "0                        [perl]   \n",
       "1  [regex, file, perl, parsing]   \n",
       "2        [regex, perl, parsing]   \n",
       "3                 [regex, perl]   \n",
       "4                        [perl]   \n",
       "\n",
       "                                               owner  is_answered  view_count  \\\n",
       "0  {'reputation': 3305, 'user_id': 251947, 'user_...         True       16319   \n",
       "1  {'reputation': 9, 'user_id': 22026250, 'user_t...        False          39   \n",
       "2  {'reputation': 9, 'user_id': 22026250, 'user_t...         True          70   \n",
       "3  {'reputation': 47, 'user_id': 12111603, 'user_...         True          42   \n",
       "4  {'reputation': 329, 'user_id': 17843701, 'user...         True          75   \n",
       "\n",
       "   accepted_answer_id  answer_count  score  last_activity_date  creation_date  \\\n",
       "0          33442443.0            14     14          1693754305     1446228117   \n",
       "1                 NaN             0     -2          1693689518     1693689518   \n",
       "2          77029610.0             1      0          1693685333     1693678041   \n",
       "3          77027643.0             1      1          1693645752     1693639247   \n",
       "4          71510162.0             1      1          1693563247     1647505118   \n",
       "\n",
       "   last_edit_date  question_id content_license  \\\n",
       "0    1.446229e+09     33442240    CC BY-SA 3.0   \n",
       "1             NaN     77030089             NaN   \n",
       "2    1.693681e+09     77029473    CC BY-SA 4.0   \n",
       "3             NaN     77027340    CC BY-SA 4.0   \n",
       "4    1.693563e+09     71509034    CC BY-SA 4.0   \n",
       "\n",
       "                                                link  \\\n",
       "0  https://stackoverflow.com/questions/33442240/p...   \n",
       "1  https://stackoverflow.com/questions/77030089/s...   \n",
       "2  https://stackoverflow.com/questions/77029473/s...   \n",
       "3  https://stackoverflow.com/questions/77027340/i...   \n",
       "4  https://stackoverflow.com/questions/71509034/p...   \n",
       "\n",
       "                                               title   closed_date  \\\n",
       "0   Perl printf to use commas as thousands-separator           NaN   \n",
       "1      Struggling to read file and use RegEx in perl  1.693712e+09   \n",
       "2  Struggling with Perl regex: Extracting scenari...           NaN   \n",
       "3  In perl, how can I use regex on a hash contain...           NaN   \n",
       "4          Perl: Subroutine uneven/unusual behaviour           NaN   \n",
       "\n",
       "                closed_reason  protected_date  community_owned_date  \n",
       "0                         NaN             NaN                   NaN  \n",
       "1  Not suitable for this site             NaN                   NaN  \n",
       "2                         NaN             NaN                   NaN  \n",
       "3                         NaN             NaN                   NaN  \n",
       "4                         NaN             NaN                   NaN  "
      ]
     },
     "execution_count": 3,
     "metadata": {},
     "output_type": "execute_result"
    }
   ],
   "source": [
    "df = pd.DataFrame(json_data[\"items\"])\n",
    "df.head(5)\n",
    "\n",
    "# i observed that the column \"owner\" has a little more information that would be needed to complement all the data"
   ]
  },
  {
   "cell_type": "code",
   "execution_count": 4,
   "metadata": {
    "ExecuteTime": {
     "end_time": "2023-09-03T02:51:16.834464Z",
     "start_time": "2023-09-03T02:51:16.815265Z"
    },
    "collapsed": false,
    "jupyter": {
     "outputs_hidden": false
    }
   },
   "outputs": [
    {
     "data": {
      "text/html": [
       "<div>\n",
       "<style scoped>\n",
       "    .dataframe tbody tr th:only-of-type {\n",
       "        vertical-align: middle;\n",
       "    }\n",
       "\n",
       "    .dataframe tbody tr th {\n",
       "        vertical-align: top;\n",
       "    }\n",
       "\n",
       "    .dataframe thead th {\n",
       "        text-align: right;\n",
       "    }\n",
       "</style>\n",
       "<table border=\"1\" class=\"dataframe\">\n",
       "  <thead>\n",
       "    <tr style=\"text-align: right;\">\n",
       "      <th></th>\n",
       "      <th>reputation</th>\n",
       "      <th>user_id</th>\n",
       "      <th>user_type</th>\n",
       "      <th>accept_rate</th>\n",
       "      <th>profile_image</th>\n",
       "      <th>display_name</th>\n",
       "      <th>link</th>\n",
       "      <th>tags</th>\n",
       "      <th>is_answered</th>\n",
       "      <th>view_count</th>\n",
       "      <th>...</th>\n",
       "      <th>creation_date</th>\n",
       "      <th>last_edit_date</th>\n",
       "      <th>question_id</th>\n",
       "      <th>content_license</th>\n",
       "      <th>link</th>\n",
       "      <th>title</th>\n",
       "      <th>closed_date</th>\n",
       "      <th>closed_reason</th>\n",
       "      <th>protected_date</th>\n",
       "      <th>community_owned_date</th>\n",
       "    </tr>\n",
       "  </thead>\n",
       "  <tbody>\n",
       "    <tr>\n",
       "      <th>0</th>\n",
       "      <td>3305</td>\n",
       "      <td>251947</td>\n",
       "      <td>registered</td>\n",
       "      <td>67.0</td>\n",
       "      <td>https://www.gravatar.com/avatar/80f18fe71d6fc0...</td>\n",
       "      <td>Chris Koknat</td>\n",
       "      <td>https://stackoverflow.com/users/251947/chris-k...</td>\n",
       "      <td>[perl]</td>\n",
       "      <td>True</td>\n",
       "      <td>16319</td>\n",
       "      <td>...</td>\n",
       "      <td>1446228117</td>\n",
       "      <td>1.446229e+09</td>\n",
       "      <td>33442240</td>\n",
       "      <td>CC BY-SA 3.0</td>\n",
       "      <td>https://stackoverflow.com/questions/33442240/p...</td>\n",
       "      <td>Perl printf to use commas as thousands-separator</td>\n",
       "      <td>NaN</td>\n",
       "      <td>NaN</td>\n",
       "      <td>NaN</td>\n",
       "      <td>NaN</td>\n",
       "    </tr>\n",
       "    <tr>\n",
       "      <th>1</th>\n",
       "      <td>9</td>\n",
       "      <td>22026250</td>\n",
       "      <td>registered</td>\n",
       "      <td>NaN</td>\n",
       "      <td>https://www.gravatar.com/avatar/037b6d260a8fdd...</td>\n",
       "      <td>PopSmoke</td>\n",
       "      <td>https://stackoverflow.com/users/22026250/popsmoke</td>\n",
       "      <td>[regex, file, perl, parsing]</td>\n",
       "      <td>False</td>\n",
       "      <td>39</td>\n",
       "      <td>...</td>\n",
       "      <td>1693689518</td>\n",
       "      <td>NaN</td>\n",
       "      <td>77030089</td>\n",
       "      <td>NaN</td>\n",
       "      <td>https://stackoverflow.com/questions/77030089/s...</td>\n",
       "      <td>Struggling to read file and use RegEx in perl</td>\n",
       "      <td>1.693712e+09</td>\n",
       "      <td>Not suitable for this site</td>\n",
       "      <td>NaN</td>\n",
       "      <td>NaN</td>\n",
       "    </tr>\n",
       "    <tr>\n",
       "      <th>2</th>\n",
       "      <td>9</td>\n",
       "      <td>22026250</td>\n",
       "      <td>registered</td>\n",
       "      <td>NaN</td>\n",
       "      <td>https://www.gravatar.com/avatar/037b6d260a8fdd...</td>\n",
       "      <td>PopSmoke</td>\n",
       "      <td>https://stackoverflow.com/users/22026250/popsmoke</td>\n",
       "      <td>[regex, perl, parsing]</td>\n",
       "      <td>True</td>\n",
       "      <td>70</td>\n",
       "      <td>...</td>\n",
       "      <td>1693678041</td>\n",
       "      <td>1.693681e+09</td>\n",
       "      <td>77029473</td>\n",
       "      <td>CC BY-SA 4.0</td>\n",
       "      <td>https://stackoverflow.com/questions/77029473/s...</td>\n",
       "      <td>Struggling with Perl regex: Extracting scenari...</td>\n",
       "      <td>NaN</td>\n",
       "      <td>NaN</td>\n",
       "      <td>NaN</td>\n",
       "      <td>NaN</td>\n",
       "    </tr>\n",
       "    <tr>\n",
       "      <th>3</th>\n",
       "      <td>47</td>\n",
       "      <td>12111603</td>\n",
       "      <td>registered</td>\n",
       "      <td>NaN</td>\n",
       "      <td>https://i.stack.imgur.com/qbNhc.jpg?s=256&amp;g=1</td>\n",
       "      <td>Henri_S</td>\n",
       "      <td>https://stackoverflow.com/users/12111603/henri-s</td>\n",
       "      <td>[regex, perl]</td>\n",
       "      <td>True</td>\n",
       "      <td>42</td>\n",
       "      <td>...</td>\n",
       "      <td>1693639247</td>\n",
       "      <td>NaN</td>\n",
       "      <td>77027340</td>\n",
       "      <td>CC BY-SA 4.0</td>\n",
       "      <td>https://stackoverflow.com/questions/77027340/i...</td>\n",
       "      <td>In perl, how can I use regex on a hash contain...</td>\n",
       "      <td>NaN</td>\n",
       "      <td>NaN</td>\n",
       "      <td>NaN</td>\n",
       "      <td>NaN</td>\n",
       "    </tr>\n",
       "    <tr>\n",
       "      <th>4</th>\n",
       "      <td>329</td>\n",
       "      <td>17843701</td>\n",
       "      <td>registered</td>\n",
       "      <td>NaN</td>\n",
       "      <td>https://www.gravatar.com/avatar/36c114a41c3dd6...</td>\n",
       "      <td>PPP</td>\n",
       "      <td>https://stackoverflow.com/users/17843701/ppp</td>\n",
       "      <td>[perl]</td>\n",
       "      <td>True</td>\n",
       "      <td>75</td>\n",
       "      <td>...</td>\n",
       "      <td>1647505118</td>\n",
       "      <td>1.693563e+09</td>\n",
       "      <td>71509034</td>\n",
       "      <td>CC BY-SA 4.0</td>\n",
       "      <td>https://stackoverflow.com/questions/71509034/p...</td>\n",
       "      <td>Perl: Subroutine uneven/unusual behaviour</td>\n",
       "      <td>NaN</td>\n",
       "      <td>NaN</td>\n",
       "      <td>NaN</td>\n",
       "      <td>NaN</td>\n",
       "    </tr>\n",
       "  </tbody>\n",
       "</table>\n",
       "<p>5 rows × 24 columns</p>\n",
       "</div>"
      ],
      "text/plain": [
       "   reputation   user_id   user_type  accept_rate  \\\n",
       "0        3305    251947  registered         67.0   \n",
       "1           9  22026250  registered          NaN   \n",
       "2           9  22026250  registered          NaN   \n",
       "3          47  12111603  registered          NaN   \n",
       "4         329  17843701  registered          NaN   \n",
       "\n",
       "                                       profile_image  display_name  \\\n",
       "0  https://www.gravatar.com/avatar/80f18fe71d6fc0...  Chris Koknat   \n",
       "1  https://www.gravatar.com/avatar/037b6d260a8fdd...      PopSmoke   \n",
       "2  https://www.gravatar.com/avatar/037b6d260a8fdd...      PopSmoke   \n",
       "3      https://i.stack.imgur.com/qbNhc.jpg?s=256&g=1       Henri_S   \n",
       "4  https://www.gravatar.com/avatar/36c114a41c3dd6...           PPP   \n",
       "\n",
       "                                                link  \\\n",
       "0  https://stackoverflow.com/users/251947/chris-k...   \n",
       "1  https://stackoverflow.com/users/22026250/popsmoke   \n",
       "2  https://stackoverflow.com/users/22026250/popsmoke   \n",
       "3   https://stackoverflow.com/users/12111603/henri-s   \n",
       "4       https://stackoverflow.com/users/17843701/ppp   \n",
       "\n",
       "                           tags  is_answered  view_count  ...  creation_date  \\\n",
       "0                        [perl]         True       16319  ...     1446228117   \n",
       "1  [regex, file, perl, parsing]        False          39  ...     1693689518   \n",
       "2        [regex, perl, parsing]         True          70  ...     1693678041   \n",
       "3                 [regex, perl]         True          42  ...     1693639247   \n",
       "4                        [perl]         True          75  ...     1647505118   \n",
       "\n",
       "   last_edit_date  question_id  content_license  \\\n",
       "0    1.446229e+09     33442240     CC BY-SA 3.0   \n",
       "1             NaN     77030089              NaN   \n",
       "2    1.693681e+09     77029473     CC BY-SA 4.0   \n",
       "3             NaN     77027340     CC BY-SA 4.0   \n",
       "4    1.693563e+09     71509034     CC BY-SA 4.0   \n",
       "\n",
       "                                                link  \\\n",
       "0  https://stackoverflow.com/questions/33442240/p...   \n",
       "1  https://stackoverflow.com/questions/77030089/s...   \n",
       "2  https://stackoverflow.com/questions/77029473/s...   \n",
       "3  https://stackoverflow.com/questions/77027340/i...   \n",
       "4  https://stackoverflow.com/questions/71509034/p...   \n",
       "\n",
       "                                               title   closed_date  \\\n",
       "0   Perl printf to use commas as thousands-separator           NaN   \n",
       "1      Struggling to read file and use RegEx in perl  1.693712e+09   \n",
       "2  Struggling with Perl regex: Extracting scenari...           NaN   \n",
       "3  In perl, how can I use regex on a hash contain...           NaN   \n",
       "4          Perl: Subroutine uneven/unusual behaviour           NaN   \n",
       "\n",
       "                closed_reason protected_date community_owned_date  \n",
       "0                         NaN            NaN                  NaN  \n",
       "1  Not suitable for this site            NaN                  NaN  \n",
       "2                         NaN            NaN                  NaN  \n",
       "3                         NaN            NaN                  NaN  \n",
       "4                         NaN            NaN                  NaN  \n",
       "\n",
       "[5 rows x 24 columns]"
      ]
     },
     "execution_count": 4,
     "metadata": {},
     "output_type": "execute_result"
    }
   ],
   "source": [
    "# we gonna change the json data to a pandas dataframe\n",
    "df = pd.DataFrame(json_data[\"items\"]) # this part of the data is in the items key\n",
    "\n",
    "owner_info = df[\"owner\"] # this part of the data is in the owner key into the items key ... items->owner\n",
    "\n",
    "# extracting the owner info from the dataframe\n",
    "df_owner = pd.DataFrame([x for x in owner_info])\n",
    "\n",
    "#once we have the owner info we can merge it with the rest of the data\n",
    "df = pd.concat([df_owner, df], axis=1)\n",
    "\n",
    "# we dont need the owner column anymore\n",
    "df.drop(columns=[\"owner\"], inplace=True)\n",
    "\n",
    "df.head()\n"
   ]
  },
  {
   "cell_type": "code",
   "execution_count": 5,
   "metadata": {
    "ExecuteTime": {
     "end_time": "2023-09-03T02:51:19.979391Z",
     "start_time": "2023-09-03T02:51:19.921748Z"
    },
    "collapsed": false,
    "jupyter": {
     "outputs_hidden": false
    }
   },
   "outputs": [],
   "source": [
    "# save the data in a csv file\n",
    "df.to_csv(\"StackOverflow.csv\", index=False)"
   ]
  },
  {
   "attachments": {},
   "cell_type": "markdown",
   "metadata": {
    "collapsed": false,
    "jupyter": {
     "outputs_hidden": false
    }
   },
   "source": [
    "### Obtener el número de respuestas contestadas y no contestadas"
   ]
  },
  {
   "cell_type": "code",
   "execution_count": 6,
   "metadata": {
    "ExecuteTime": {
     "end_time": "2023-09-03T02:50:43.027355Z",
     "start_time": "2023-09-03T02:50:42.955640Z"
    },
    "collapsed": false,
    "jupyter": {
     "outputs_hidden": false
    }
   },
   "outputs": [
    {
     "name": "stdout",
     "output_type": "stream",
     "text": [
      "Total of questions answered and unanswered\n"
     ]
    },
    {
     "data": {
      "text/plain": [
       "is_answered\n",
       "True     24\n",
       "False     6\n",
       "Name: count, dtype: int64"
      ]
     },
     "execution_count": 6,
     "metadata": {},
     "output_type": "execute_result"
    }
   ],
   "source": [
    "print(\"Total of questions answered and unanswered\")\n",
    "df.value_counts(\"is_answered\")"
   ]
  },
  {
   "attachments": {},
   "cell_type": "markdown",
   "metadata": {},
   "source": [
    "### Obtener la respuesta con menor número de vistas"
   ]
  },
  {
   "cell_type": "code",
   "execution_count": 7,
   "metadata": {
    "collapsed": false,
    "jupyter": {
     "outputs_hidden": false
    }
   },
   "outputs": [
    {
     "name": "stdout",
     "output_type": "stream",
     "text": [
      "The question with the most views is:\n"
     ]
    },
    {
     "data": {
      "text/html": [
       "<div>\n",
       "<style scoped>\n",
       "    .dataframe tbody tr th:only-of-type {\n",
       "        vertical-align: middle;\n",
       "    }\n",
       "\n",
       "    .dataframe tbody tr th {\n",
       "        vertical-align: top;\n",
       "    }\n",
       "\n",
       "    .dataframe thead th {\n",
       "        text-align: right;\n",
       "    }\n",
       "</style>\n",
       "<table border=\"1\" class=\"dataframe\">\n",
       "  <thead>\n",
       "    <tr style=\"text-align: right;\">\n",
       "      <th></th>\n",
       "      <th>title</th>\n",
       "      <th>view_count</th>\n",
       "    </tr>\n",
       "  </thead>\n",
       "  <tbody>\n",
       "    <tr>\n",
       "      <th>11</th>\n",
       "      <td>why does spack external find fail to find perl?</td>\n",
       "      <td>12</td>\n",
       "    </tr>\n",
       "  </tbody>\n",
       "</table>\n",
       "</div>"
      ],
      "text/plain": [
       "                                              title  view_count\n",
       "11  why does spack external find fail to find perl?          12"
      ]
     },
     "execution_count": 7,
     "metadata": {},
     "output_type": "execute_result"
    }
   ],
   "source": [
    "print(\"The question with the most views is:\")\n",
    "df[df[\"view_count\"] == df[\"view_count\"].min()][[\"title\",\"view_count\"]]"
   ]
  },
  {
   "cell_type": "code",
   "execution_count": 8,
   "metadata": {},
   "outputs": [
    {
     "data": {
      "text/plain": [
       "11    why does spack external find fail to find perl?\n",
       "Name: title, dtype: object"
      ]
     },
     "execution_count": 8,
     "metadata": {},
     "output_type": "execute_result"
    }
   ],
   "source": [
    "# One lines solution\n",
    "df[\"title\"][df[\"view_count\"] == min(df[\"view_count\"])]"
   ]
  },
  {
   "attachments": {},
   "cell_type": "markdown",
   "metadata": {},
   "source": [
    "### Obtener la respuesta más vieja y más actual"
   ]
  },
  {
   "cell_type": "code",
   "execution_count": 9,
   "metadata": {},
   "outputs": [
    {
     "name": "stdout",
     "output_type": "stream",
     "text": [
      "The question with the most recent and oldest is:\n",
      "newest:  Struggling to read file and use RegEx in perl\n",
      "oldest:  What is the best way to slurp a file into a string in Perl?\n"
     ]
    }
   ],
   "source": [
    "df[\"created_date\"] = pd.to_datetime(df[\"creation_date\"], unit=\"s\")\n",
    "result = df[\"title\"][(df[\"created_date\"] == max(df[\"created_date\"])) | (df[\"created_date\"] == min(df[\"created_date\"]))]\n",
    "\n",
    "print(\"The question with the most recent and oldest is:\")\n",
    "\n",
    "print(\"newest: \", result.values[0])\n",
    "print(\"oldest: \", result.values[1])"
   ]
  },
  {
   "cell_type": "code",
   "execution_count": 11,
   "metadata": {},
   "outputs": [
    {
     "data": {
      "text/html": [
       "<div>\n",
       "<style scoped>\n",
       "    .dataframe tbody tr th:only-of-type {\n",
       "        vertical-align: middle;\n",
       "    }\n",
       "\n",
       "    .dataframe tbody tr th {\n",
       "        vertical-align: top;\n",
       "    }\n",
       "\n",
       "    .dataframe thead th {\n",
       "        text-align: right;\n",
       "    }\n",
       "</style>\n",
       "<table border=\"1\" class=\"dataframe\">\n",
       "  <thead>\n",
       "    <tr style=\"text-align: right;\">\n",
       "      <th></th>\n",
       "      <th>title</th>\n",
       "      <th>created_date</th>\n",
       "    </tr>\n",
       "  </thead>\n",
       "  <tbody>\n",
       "    <tr>\n",
       "      <th>1</th>\n",
       "      <td>Struggling to read file and use RegEx in perl</td>\n",
       "      <td>2023-09-02 21:18:38</td>\n",
       "    </tr>\n",
       "    <tr>\n",
       "      <th>28</th>\n",
       "      <td>What is the best way to slurp a file into a st...</td>\n",
       "      <td>2008-10-15 21:55:47</td>\n",
       "    </tr>\n",
       "  </tbody>\n",
       "</table>\n",
       "</div>"
      ],
      "text/plain": [
       "                                                title        created_date\n",
       "1       Struggling to read file and use RegEx in perl 2023-09-02 21:18:38\n",
       "28  What is the best way to slurp a file into a st... 2008-10-15 21:55:47"
      ]
     },
     "execution_count": 11,
     "metadata": {},
     "output_type": "execute_result"
    }
   ],
   "source": [
    "df[\"created_date\"] = pd.to_datetime(df[\"creation_date\"], unit=\"s\")\n",
    "result = df[[\"title\",\"created_date\"]][(df[\"created_date\"] == max(df[\"created_date\"])) | (df[\"created_date\"] == min(df[\"created_date\"]))]\n",
    "result"
   ]
  },
  {
   "cell_type": "code",
   "execution_count": 10,
   "metadata": {},
   "outputs": [
    {
     "name": "stdout",
     "output_type": "stream",
     "text": [
      "The oldest answer is: \n"
     ]
    },
    {
     "data": {
      "text/plain": [
       "'What is the best way to slurp a file into a string in Perl?'"
      ]
     },
     "execution_count": 10,
     "metadata": {},
     "output_type": "execute_result"
    }
   ],
   "source": [
    "print(\"The oldest answer is: \")\n",
    "df[\"title\"][df[\"created_date\"] == df[\"created_date\"].min()].to_list()[0]"
   ]
  },
  {
   "cell_type": "code",
   "execution_count": 11,
   "metadata": {},
   "outputs": [
    {
     "name": "stdout",
     "output_type": "stream",
     "text": [
      "The oldest answer is: \n"
     ]
    },
    {
     "data": {
      "text/plain": [
       "'Struggling to read file and use RegEx in perl'"
      ]
     },
     "execution_count": 11,
     "metadata": {},
     "output_type": "execute_result"
    }
   ],
   "source": [
    "print(\"The oldest answer is: \")\n",
    "df[\"title\"][df[\"created_date\"] == df[\"created_date\"].max()].to_list()[0]"
   ]
  },
  {
   "attachments": {},
   "cell_type": "markdown",
   "metadata": {},
   "source": [
    "### Obtener la respuesta del owner que tenga una mayor reputación"
   ]
  },
  {
   "cell_type": "code",
   "execution_count": 19,
   "metadata": {},
   "outputs": [
    {
     "data": {
      "text/html": [
       "<div>\n",
       "<style scoped>\n",
       "    .dataframe tbody tr th:only-of-type {\n",
       "        vertical-align: middle;\n",
       "    }\n",
       "\n",
       "    .dataframe tbody tr th {\n",
       "        vertical-align: top;\n",
       "    }\n",
       "\n",
       "    .dataframe thead th {\n",
       "        text-align: right;\n",
       "    }\n",
       "</style>\n",
       "<table border=\"1\" class=\"dataframe\">\n",
       "  <thead>\n",
       "    <tr style=\"text-align: right;\">\n",
       "      <th></th>\n",
       "      <th>title</th>\n",
       "      <th>reputation</th>\n",
       "    </tr>\n",
       "  </thead>\n",
       "  <tbody>\n",
       "    <tr>\n",
       "      <th>6</th>\n",
       "      <td>How can I use an array as the arguments to a b...</td>\n",
       "      <td>57719</td>\n",
       "    </tr>\n",
       "    <tr>\n",
       "      <th>26</th>\n",
       "      <td>How can I repeat a string N times in Perl?</td>\n",
       "      <td>50101</td>\n",
       "    </tr>\n",
       "    <tr>\n",
       "      <th>19</th>\n",
       "      <td>taint-mode perl: preserve suid when running ex...</td>\n",
       "      <td>37539</td>\n",
       "    </tr>\n",
       "    <tr>\n",
       "      <th>15</th>\n",
       "      <td>How do you create unicode file names in Window...</td>\n",
       "      <td>35625</td>\n",
       "    </tr>\n",
       "    <tr>\n",
       "      <th>28</th>\n",
       "      <td>What is the best way to slurp a file into a st...</td>\n",
       "      <td>26430</td>\n",
       "    </tr>\n",
       "  </tbody>\n",
       "</table>\n",
       "</div>"
      ],
      "text/plain": [
       "                                                title  reputation\n",
       "6   How can I use an array as the arguments to a b...       57719\n",
       "26         How can I repeat a string N times in Perl?       50101\n",
       "19  taint-mode perl: preserve suid when running ex...       37539\n",
       "15  How do you create unicode file names in Window...       35625\n",
       "28  What is the best way to slurp a file into a st...       26430"
      ]
     },
     "execution_count": 19,
     "metadata": {},
     "output_type": "execute_result"
    }
   ],
   "source": [
    "result = df[[\"title\",\"reputation\"]]\n",
    "result.sort_values(by=\"reputation\", ascending=False).head(5)"
   ]
  },
  {
   "cell_type": "code",
   "execution_count": 21,
   "metadata": {},
   "outputs": [
    {
     "name": "stdout",
     "output_type": "stream",
     "text": [
      "The title of the question with owner having the highest reputation is: \n"
     ]
    },
    {
     "data": {
      "text/html": [
       "<div>\n",
       "<style scoped>\n",
       "    .dataframe tbody tr th:only-of-type {\n",
       "        vertical-align: middle;\n",
       "    }\n",
       "\n",
       "    .dataframe tbody tr th {\n",
       "        vertical-align: top;\n",
       "    }\n",
       "\n",
       "    .dataframe thead th {\n",
       "        text-align: right;\n",
       "    }\n",
       "</style>\n",
       "<table border=\"1\" class=\"dataframe\">\n",
       "  <thead>\n",
       "    <tr style=\"text-align: right;\">\n",
       "      <th></th>\n",
       "      <th>title</th>\n",
       "      <th>reputation</th>\n",
       "    </tr>\n",
       "  </thead>\n",
       "  <tbody>\n",
       "    <tr>\n",
       "      <th>6</th>\n",
       "      <td>How can I use an array as the arguments to a b...</td>\n",
       "      <td>57719</td>\n",
       "    </tr>\n",
       "  </tbody>\n",
       "</table>\n",
       "</div>"
      ],
      "text/plain": [
       "                                               title  reputation\n",
       "6  How can I use an array as the arguments to a b...       57719"
      ]
     },
     "execution_count": 21,
     "metadata": {},
     "output_type": "execute_result"
    }
   ],
   "source": [
    "print(\"The title of the question with owner having the highest reputation is: \")\n",
    "df[[\"title\",\"reputation\"]][df[\"reputation\"] == max(df[\"reputation\"])]"
   ]
  },
  {
   "cell_type": "code",
   "execution_count": 37,
   "metadata": {},
   "outputs": [
    {
     "name": "stdout",
     "output_type": "stream",
     "text": [
      " hello world\n"
     ]
    }
   ],
   "source": [
    "print(\" hello world\")"
   ]
  },
  {
   "cell_type": "code",
   "execution_count": null,
   "metadata": {},
   "outputs": [],
   "source": []
  }
 ],
 "metadata": {
  "kernelspec": {
   "display_name": "Python 3 (ipykernel)",
   "language": "python",
   "name": "python3"
  },
  "language_info": {
   "codemirror_mode": {
    "name": "ipython",
    "version": 3
   },
   "file_extension": ".py",
   "mimetype": "text/x-python",
   "name": "python",
   "nbconvert_exporter": "python",
   "pygments_lexer": "ipython3",
   "version": "3.11.4"
  }
 },
 "nbformat": 4,
 "nbformat_minor": 4
}
