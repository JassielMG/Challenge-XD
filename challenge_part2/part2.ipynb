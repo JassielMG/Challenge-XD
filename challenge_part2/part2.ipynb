{
 "cells": [
  {
   "cell_type": "markdown",
   "metadata": {},
   "source": [
    "### For this second part of the challenge we gonna simulate that we have a database with the tables provided and we gonna use SQL to query the data and get the results we need."
   ]
  },
  {
   "cell_type": "markdown",
   "metadata": {},
   "source": [
    "### Preparing the data "
   ]
  },
  {
   "cell_type": "code",
   "execution_count": 16,
   "metadata": {},
   "outputs": [],
   "source": [
    "import sqlite3\n",
    "import pandas as pd\n",
    "\n",
    "vuelos = pd.DataFrame(data=[(1, 1, 1, '2021-05-02'),\n",
    "                (2, 1, 1, '2021-05-02'),\n",
    "                (3, 2, 2, '2021-05-02'),\n",
    "                (4, 3, 2, '2021-05-02'),\n",
    "                (1, 3, 2, '2021-05-02'),\n",
    "                (2, 1, 1, '2021-05-02'),\n",
    "                (2, 3, 1, '2021-05-04'),\n",
    "                (3, 4, 1, '2021-05-04'),\n",
    "                (3, 4, 1, '2021-05-04')], columns=[\"id_aerolinea\", \"id_aeropuerto\", \"id_movimiento\", \"dia\"])\n",
    "\n",
    "aerolineas = pd.DataFrame(data=[\n",
    "                 (1, 'Volaris'),\n",
    "                 (2, 'Aeromar'),\n",
    "                 (3, 'Interjet'),\n",
    "                 (4, 'Aeromexico')] , columns=[\"id_aerolinea\", \"nombre_aerolinea\"])\n",
    "\n",
    "aeropuertos = pd.DataFrame(data=[\n",
    "                 (1, 'Benito Juarez'),\n",
    "                 (2, 'Guanajuato'),\n",
    "                 (3, 'La paz'),\n",
    "                 (4, 'Oaxaca')], columns=[\"id_aeropuerto\", \"nombre_aeropuerto\"])\n",
    "\n",
    "movimientos = pd.DataFrame(data=[\n",
    "                    (1, 'Salida'),\n",
    "                    (2, 'Llegada')] , columns=[\"id_movimiento\", \"descripcion\"])\n"
   ]
  },
  {
   "cell_type": "markdown",
   "metadata": {},
   "source": [
    "### Creating Database and Tables"
   ]
  },
  {
   "cell_type": "code",
   "execution_count": 17,
   "metadata": {},
   "outputs": [],
   "source": [
    "# we use sqlite3 to create a database\n",
    "import os\n",
    "if os.path.exists(\"AeroViajes.db\"):\n",
    "    os.remove(\"AeroViajes.db\")\n",
    "\n",
    "conn = sqlite3.connect('AeroViajes.db')\n",
    "c = conn.cursor()"
   ]
  },
  {
   "cell_type": "code",
   "execution_count": 18,
   "metadata": {},
   "outputs": [],
   "source": [
    "\n",
    "# we create the tables\n",
    "c.execute('''CREATE TABLE aerolineas\n",
    "                (id_aerolinea INTEGER PRIMARY KEY,\n",
    "                 nombre_aerolinea VARCHAR(50))''')\n",
    "\n",
    "c.execute('''CREATE TABLE aeropuertos \n",
    "                (id_aeropuerto INTEGER PRIMARY KEY,\n",
    "                 nombre_aeropuerto  VARCHAR(50))''')\n",
    "\n",
    "c.execute('''CREATE TABLE movimientos \n",
    "                (id_movimiento INTEGER PRIMARY KEY,\n",
    "                 descripcion VARCHAR(25))''')\n",
    "\n",
    "c.execute('''CREATE TABLE vuelos(\n",
    "                 id_aerolinea INTEGER NOT NULL,\n",
    "                 id_aeropuerto INTEGER NOT NULL,\n",
    "                 id_movimiento INTEGER NOT NULL,\n",
    "                 dia DATETIME,\n",
    "                 FOREIGN KEY (id_aerolinea) REFERENCES aerolineas(id_aerolinea),\n",
    "                 FOREIGN KEY (id_aeropuerto) REFERENCES aeropuertos(id_aeropuerto),\n",
    "                 FOREIGN KEY (id_movimiento) REFERENCES movimientos(id_movimiento))''')\n",
    "\n",
    "\n",
    "conn.commit()\n",
    "\n",
    "c.close()"
   ]
  },
  {
   "cell_type": "code",
   "execution_count": 19,
   "metadata": {},
   "outputs": [
    {
     "name": "stdout",
     "output_type": "stream",
     "text": [
      "[('aerolineas',), ('aeropuertos',), ('movimientos',), ('vuelos',)]\n"
     ]
    }
   ],
   "source": [
    "# we test if the tables were created, showing all tables available\n",
    "c = conn.cursor()\n",
    "\n",
    "c.execute(\"SELECT name FROM sqlite_master WHERE type='table';\")\n",
    "print(c.fetchall())\n",
    "\n",
    "c.close()\n"
   ]
  },
  {
   "cell_type": "code",
   "execution_count": 20,
   "metadata": {},
   "outputs": [
    {
     "name": "stdout",
     "output_type": "stream",
     "text": [
      "[]\n"
     ]
    }
   ],
   "source": [
    "c = conn.cursor()\n",
    "c.execute(\"SELECT * FROM aerolineas\")\n",
    "print(c.fetchall())\n",
    "\n",
    "c.close()"
   ]
  },
  {
   "cell_type": "markdown",
   "metadata": {},
   "source": [
    "### loading the data into the tables "
   ]
  },
  {
   "cell_type": "code",
   "execution_count": 21,
   "metadata": {},
   "outputs": [],
   "source": [
    "# next step is to load the database filling all the tables with the data of the challenge\n",
    "c = conn.cursor()\n",
    "\n",
    "\n",
    "def load_data(table_name, df):\n",
    "    for index, row in df.iterrows():\n",
    "\n",
    "        query = f\"INSERT INTO {table_name} VALUES ({', '.join(['?'] * len(row))})\"\n",
    "        c.execute(query, tuple(row))\n",
    "\n",
    "\n",
    "# table viajes\n",
    "load_data(\"vuelos\", vuelos)\n",
    "# table aerolineas\n",
    "load_data(\"aerolineas\", aerolineas)\n",
    "# table aeropuertos\n",
    "load_data(\"aeropuertos\", aeropuertos)\n",
    "# table movimientos\n",
    "load_data(\"movimientos\", movimientos)\n",
    "\n",
    "conn.commit()\n",
    "c.close()"
   ]
  },
  {
   "cell_type": "code",
   "execution_count": 22,
   "metadata": {},
   "outputs": [
    {
     "name": "stdout",
     "output_type": "stream",
     "text": [
      "[(1, 1, 1, '2021-05-02'), (2, 1, 1, '2021-05-02'), (3, 2, 2, '2021-05-02'), (4, 3, 2, '2021-05-02'), (1, 3, 2, '2021-05-02'), (2, 1, 1, '2021-05-02'), (2, 3, 1, '2021-05-04'), (3, 4, 1, '2021-05-04'), (3, 4, 1, '2021-05-04')]\n"
     ]
    }
   ],
   "source": [
    "c = conn.cursor()\n",
    "\n",
    "c.execute(\"\"\"SELECT * FROM vuelos\n",
    "          \"\"\")\n",
    "dia = c.fetchall()\n",
    "\n",
    "print(dia)\n",
    "\n"
   ]
  },
  {
   "cell_type": "markdown",
   "metadata": {},
   "source": [
    "### ¿Cuál es el nombre aeropuerto que ha tenido mayor movimiento durante el año?"
   ]
  },
  {
   "cell_type": "code",
   "execution_count": 23,
   "metadata": {},
   "outputs": [
    {
     "name": "stdout",
     "output_type": "stream",
     "text": [
      "[('La paz', 3), ('Benito Juarez', 3), ('Oaxaca', 2), ('Guanajuato', 1)]\n"
     ]
    }
   ],
   "source": [
    "c = conn.cursor()\n",
    "c.execute('''SELECT ap.nombre_aeropuerto, count(v.id_movimiento) as total_movimientos\n",
    "             FROM aeropuertos as ap\n",
    "             LEFT JOIN vuelos as v \n",
    "             ON ap.id_aeropuerto = v.id_aeropuerto\n",
    "             GROUP BY ap.nombre_aeropuerto\n",
    "             ORDER BY total_movimientos DESC\n",
    "          ''')\n",
    "aeropuerto = c.fetchall()\n",
    "conn.commit()\n",
    "c.close()\n",
    "print(aeropuerto)"
   ]
  },
  {
   "cell_type": "code",
   "execution_count": 24,
   "metadata": {},
   "outputs": [
    {
     "name": "stdout",
     "output_type": "stream",
     "text": [
      "  nombre_aeropuerto  total_movimientos\n",
      "0            La paz                  3\n",
      "1     Benito Juarez                  3\n",
      "2            Oaxaca                  2\n",
      "3        Guanajuato                  1\n"
     ]
    }
   ],
   "source": [
    "# De acuerdo a los datos,la paz y benito juarez son los aeropuertos con mayor numero de movimientos o vuelos\n",
    "c = conn.cursor()\n",
    "query = '''SELECT ap.nombre_aeropuerto, count(v.id_movimiento) as total_movimientos\n",
    "             FROM aeropuertos as ap\n",
    "             LEFT JOIN vuelos as v \n",
    "             ON ap.id_aeropuerto = v.id_aeropuerto\n",
    "             GROUP BY ap.nombre_aeropuerto\n",
    "             ORDER BY total_movimientos DESC\n",
    "          '''\n",
    "\n",
    "aeropuerto = pd.read_sql_query(query, conn)\n",
    "print(aeropuerto)"
   ]
  },
  {
   "cell_type": "markdown",
   "metadata": {},
   "source": [
    "### ¿Cuál es el nombre aerolínea que ha realizado mayor número de vuelos durante el año?"
   ]
  },
  {
   "cell_type": "code",
   "execution_count": 25,
   "metadata": {},
   "outputs": [
    {
     "name": "stdout",
     "output_type": "stream",
     "text": [
      "[('Interjet', 3), ('Aeromar', 3), ('Volaris', 2), ('Aeromexico', 1)]\n"
     ]
    }
   ],
   "source": [
    "\n",
    "c = conn.cursor()\n",
    "c.execute('''SELECT ae.nombre_aerolinea, count(v.id_movimiento) as total_vuelos\n",
    "             FROM aerolineas as ae\n",
    "             INNER JOIN vuelos as v ON \n",
    "             ae.id_aerolinea = v.id_aerolinea\n",
    "             GROUP BY ae.nombre_aerolinea\n",
    "             ORDER BY total_vuelos DESC\n",
    "            ''')\n",
    "aerolinea = c.fetchall()\n",
    "conn.commit()\n",
    "c.close()\n",
    "\n",
    "print(aerolinea)\n"
   ]
  },
  {
   "cell_type": "code",
   "execution_count": 26,
   "metadata": {},
   "outputs": [
    {
     "data": {
      "text/html": [
       "<div>\n",
       "<style scoped>\n",
       "    .dataframe tbody tr th:only-of-type {\n",
       "        vertical-align: middle;\n",
       "    }\n",
       "\n",
       "    .dataframe tbody tr th {\n",
       "        vertical-align: top;\n",
       "    }\n",
       "\n",
       "    .dataframe thead th {\n",
       "        text-align: right;\n",
       "    }\n",
       "</style>\n",
       "<table border=\"1\" class=\"dataframe\">\n",
       "  <thead>\n",
       "    <tr style=\"text-align: right;\">\n",
       "      <th></th>\n",
       "      <th>aerolinea</th>\n",
       "      <th>total_movimientos</th>\n",
       "    </tr>\n",
       "  </thead>\n",
       "  <tbody>\n",
       "    <tr>\n",
       "      <th>0</th>\n",
       "      <td>Interjet</td>\n",
       "      <td>3</td>\n",
       "    </tr>\n",
       "    <tr>\n",
       "      <th>1</th>\n",
       "      <td>Aeromar</td>\n",
       "      <td>3</td>\n",
       "    </tr>\n",
       "    <tr>\n",
       "      <th>2</th>\n",
       "      <td>Volaris</td>\n",
       "      <td>2</td>\n",
       "    </tr>\n",
       "    <tr>\n",
       "      <th>3</th>\n",
       "      <td>Aeromexico</td>\n",
       "      <td>1</td>\n",
       "    </tr>\n",
       "  </tbody>\n",
       "</table>\n",
       "</div>"
      ],
      "text/plain": [
       "    aerolinea  total_movimientos\n",
       "0    Interjet                  3\n",
       "1     Aeromar                  3\n",
       "2     Volaris                  2\n",
       "3  Aeromexico                  1"
      ]
     },
     "execution_count": 26,
     "metadata": {},
     "output_type": "execute_result"
    }
   ],
   "source": [
    "# De acuerdo a los datos interjet y aeromar son las aerolineas con mayor numero de vuelos\n",
    "df = pd.DataFrame(aerolinea, columns = ['aerolinea', 'total_movimientos'])\n",
    "df\n"
   ]
  },
  {
   "cell_type": "markdown",
   "metadata": {},
   "source": [
    "### ¿En qué día se han tenido mayor número de vuelos?"
   ]
  },
  {
   "cell_type": "code",
   "execution_count": 27,
   "metadata": {},
   "outputs": [
    {
     "data": {
      "text/plain": [
       "[('2021-05-02', 6), ('2021-05-04', 3)]"
      ]
     },
     "execution_count": 27,
     "metadata": {},
     "output_type": "execute_result"
    }
   ],
   "source": [
    "c = conn.cursor()\n",
    "c.execute(\"\"\" SELECT v.dia, COUNT(v.id_movimiento) as total_vuelos\n",
    "                FROM vuelos as v\n",
    "                GROUP BY v.dia\n",
    "                ORDER BY total_vuelos DESC\n",
    "            \"\"\")\n",
    "\n",
    "dia = c.fetchall()\n",
    "conn.commit()\n",
    "c.close()\n",
    "dia"
   ]
  },
  {
   "cell_type": "code",
   "execution_count": 28,
   "metadata": {},
   "outputs": [
    {
     "data": {
      "text/html": [
       "<div>\n",
       "<style scoped>\n",
       "    .dataframe tbody tr th:only-of-type {\n",
       "        vertical-align: middle;\n",
       "    }\n",
       "\n",
       "    .dataframe tbody tr th {\n",
       "        vertical-align: top;\n",
       "    }\n",
       "\n",
       "    .dataframe thead th {\n",
       "        text-align: right;\n",
       "    }\n",
       "</style>\n",
       "<table border=\"1\" class=\"dataframe\">\n",
       "  <thead>\n",
       "    <tr style=\"text-align: right;\">\n",
       "      <th></th>\n",
       "      <th>dia</th>\n",
       "      <th>total_salidas</th>\n",
       "    </tr>\n",
       "  </thead>\n",
       "  <tbody>\n",
       "    <tr>\n",
       "      <th>0</th>\n",
       "      <td>2021-05-02</td>\n",
       "      <td>6</td>\n",
       "    </tr>\n",
       "    <tr>\n",
       "      <th>1</th>\n",
       "      <td>2021-05-04</td>\n",
       "      <td>3</td>\n",
       "    </tr>\n",
       "  </tbody>\n",
       "</table>\n",
       "</div>"
      ],
      "text/plain": [
       "          dia  total_salidas\n",
       "0  2021-05-02              6\n",
       "1  2021-05-04              3"
      ]
     },
     "execution_count": 28,
     "metadata": {},
     "output_type": "execute_result"
    }
   ],
   "source": [
    "# Los el dia con mayor numero de vuelos es el 2021-05-02\n",
    "df = pd.DataFrame(dia, columns = ['dia', 'total_salidas'])\n",
    "df"
   ]
  },
  {
   "cell_type": "markdown",
   "metadata": {},
   "source": [
    "### ¿Cuáles son las aerolíneas que tienen mas de 2 vuelos por día?"
   ]
  },
  {
   "cell_type": "code",
   "execution_count": 29,
   "metadata": {},
   "outputs": [
    {
     "data": {
      "text/plain": [
       "[]"
      ]
     },
     "execution_count": 29,
     "metadata": {},
     "output_type": "execute_result"
    }
   ],
   "source": [
    "c = conn.cursor()\n",
    "query = \"\"\" SELECT ae.nombre_aerolinea, count(ae.nombre_aerolinea) as total_vuelos\n",
    "                FROM aerolineas as ae\n",
    "                INNER JOIN vuelos as v\n",
    "                ON ae.id_aerolinea = v.id_aerolinea\n",
    "                GROUP BY v.dia, ae.nombre_aerolinea\n",
    "                HAVING COUNT(v.dia) > 2\n",
    "                ORDER BY total_vuelos DESC\n",
    "            \"\"\"\n",
    "c.execute(query)\n",
    "aerolinea = c.fetchall()\n",
    "conn.commit()\n",
    "c.close()\n",
    "\n",
    "aerolinea"
   ]
  },
  {
   "cell_type": "code",
   "execution_count": 30,
   "metadata": {},
   "outputs": [
    {
     "data": {
      "text/html": [
       "<div>\n",
       "<style scoped>\n",
       "    .dataframe tbody tr th:only-of-type {\n",
       "        vertical-align: middle;\n",
       "    }\n",
       "\n",
       "    .dataframe tbody tr th {\n",
       "        vertical-align: top;\n",
       "    }\n",
       "\n",
       "    .dataframe thead th {\n",
       "        text-align: right;\n",
       "    }\n",
       "</style>\n",
       "<table border=\"1\" class=\"dataframe\">\n",
       "  <thead>\n",
       "    <tr style=\"text-align: right;\">\n",
       "      <th></th>\n",
       "      <th>nombre_aerolinea</th>\n",
       "      <th>total_vuelos</th>\n",
       "    </tr>\n",
       "  </thead>\n",
       "  <tbody>\n",
       "  </tbody>\n",
       "</table>\n",
       "</div>"
      ],
      "text/plain": [
       "Empty DataFrame\n",
       "Columns: [nombre_aerolinea, total_vuelos]\n",
       "Index: []"
      ]
     },
     "execution_count": 30,
     "metadata": {},
     "output_type": "execute_result"
    }
   ],
   "source": [
    "#no existe aerolinea con mas de 2 vuelos en un dia\n",
    "aerolinea = pd.read_sql_query(query, conn)\n",
    "aerolinea"
   ]
  },
  {
   "cell_type": "code",
   "execution_count": null,
   "metadata": {},
   "outputs": [],
   "source": []
  }
 ],
 "metadata": {
  "kernelspec": {
   "display_name": "Python 3 (ipykernel)",
   "language": "python",
   "name": "python3"
  },
  "language_info": {
   "codemirror_mode": {
    "name": "ipython",
    "version": 3
   },
   "file_extension": ".py",
   "mimetype": "text/x-python",
   "name": "python",
   "nbconvert_exporter": "python",
   "pygments_lexer": "ipython3",
   "version": "3.11.4"
  }
 },
 "nbformat": 4,
 "nbformat_minor": 4
}
